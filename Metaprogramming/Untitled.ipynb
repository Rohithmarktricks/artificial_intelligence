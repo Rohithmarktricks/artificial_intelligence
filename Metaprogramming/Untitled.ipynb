{
 "cells": [
  {
   "cell_type": "code",
   "execution_count": 1,
   "metadata": {},
   "outputs": [],
   "source": [
    "class TracingMeta(type):\n",
    "    @classmethod\n",
    "    def __prepare__(mcs, name, bases, **kwargs):\n",
    "        print(\"TracingMeta.__prepare__(name, bases, **kwargs)\")\n",
    "        print(\"mcs =\", mcs)\n",
    "        print(\"name =\", name)\n",
    "        print(\"bases =\", bases)\n",
    "        print(\"kwargs =\", kwargs)\n",
    "        namespace = super().__prepare__(name, bases)\n",
    "        print(\"<-- namespace =\", namespace)\n",
    "        print()\n",
    "        return namespace\n",
    "    def __new__(mcs, name, bases, namespace, **kwargs):\n",
    "        print(\"TracingMeta.__new__(mcs, name, bases, namespace)\")\n",
    "        print(\"mcs =\", mcs)\n",
    "        print(\"name =\", name)\n",
    "        print(\"bases =\", bases)\n",
    "        print(\"namespace =\", namespace)\n",
    "        print(\"kwargs =\", kwargs)\n",
    "        cls = super().__new__(mcs, name, bases, namespace)\n",
    "        print(\"<-- cls =\", cls)\n",
    "        print()\n",
    "        return cls\n",
    "    def __init__(cls, name, bases, namespace, **kwargs):\n",
    "        print(\"TracingMeta.__init__(cls, name, bases, namespace)\")\n",
    "        print(\"cls =\", cls)\n",
    "        print(\"name =\", name)\n",
    "        print(\"bases =\", bases)\n",
    "        print(\"namespace =\", namespace)\n",
    "        print(\"kwargs =\", kwargs)\n",
    "        super().__init__(name, bases, namespace)\n",
    "        print()"
   ]
  },
  {
   "cell_type": "code",
   "execution_count": 3,
   "metadata": {},
   "outputs": [
    {
     "name": "stdout",
     "output_type": "stream",
     "text": [
      "TracingMeta.__prepare__(name, bases, **kwargs)\n",
      "mcs = <class '__main__.TracingMeta'>\n",
      "name = Widget\n",
      "bases = ()\n",
      "kwargs = {}\n",
      "<-- namespace = {}\n",
      "\n",
      "TracingMeta.__new__(mcs, name, bases, namespace)\n",
      "mcs = <class '__main__.TracingMeta'>\n",
      "name = Widget\n",
      "bases = ()\n",
      "namespace = {'__module__': '__main__', '__qualname__': 'Widget', 'action': <function Widget.action at 0x000001DF7FCAEE58>}\n",
      "kwargs = {}\n",
      "<-- cls = <class '__main__.Widget'>\n",
      "\n",
      "TracingMeta.__init__(cls, name, bases, namespace)\n",
      "cls = <class '__main__.Widget'>\n",
      "name = Widget\n",
      "bases = ()\n",
      "namespace = {'__module__': '__main__', '__qualname__': 'Widget', 'action': <function Widget.action at 0x000001DF7FCAEE58>}\n",
      "kwargs = {}\n",
      "\n"
     ]
    }
   ],
   "source": [
    "class Widget(metaclass=TracingMeta):\n",
    "    def action(message):\n",
    "        print(message)"
   ]
  },
  {
   "cell_type": "code",
   "execution_count": null,
   "metadata": {},
   "outputs": [],
   "source": []
  }
 ],
 "metadata": {
  "kernelspec": {
   "display_name": "Python 3",
   "language": "python",
   "name": "python3"
  },
  "language_info": {
   "codemirror_mode": {
    "name": "ipython",
    "version": 3
   },
   "file_extension": ".py",
   "mimetype": "text/x-python",
   "name": "python",
   "nbconvert_exporter": "python",
   "pygments_lexer": "ipython3",
   "version": "3.7.7"
  }
 },
 "nbformat": 4,
 "nbformat_minor": 4
}
