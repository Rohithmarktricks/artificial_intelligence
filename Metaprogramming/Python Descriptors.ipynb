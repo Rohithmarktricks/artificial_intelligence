{
 "cells": [
  {
   "cell_type": "code",
   "execution_count": 4,
   "metadata": {},
   "outputs": [],
   "source": [
    "class Planet:\n",
    "    def __init__(self,\n",
    "                name,\n",
    "                radius_metres,\n",
    "                 mass_kilograms,\n",
    "                 orbital_period_seconds,\n",
    "                 surface_temperature_kelvin):\n",
    "        self._name = name\n",
    "        self._radius_meters = radius_metres\n",
    "        self._mass_kilograms = mass_kilograms\n",
    "        self._orbital_period_seconds = orbital_period_seconds\n",
    "        self._surface_temperature_kelvin = surface_temperature_kelvin\n",
    "        \n",
    "        \n",
    "    @property\n",
    "    def name(self):\n",
    "        return self._name\n",
    "    \n",
    "    @name.setter\n",
    "    def name(self, value):\n",
    "        if not value:\n",
    "            raise ValueError(\"Cannot set empty Planet.name\")\n",
    "        self._name = value\n",
    "    \n",
    "    @property\n",
    "    def radius_metres(self):\n",
    "        return self._radius_meters\n",
    "    \n",
    "    @radius_metres.setter\n",
    "    def radius_metres(self, value):\n",
    "        if value<=0:\n",
    "            raise ValueError(\"radius metres value {} is not positive\".format(value))\n",
    "        self._radius_meters = value\n",
    "    \n",
    "    @property\n",
    "    def mass_kilograms(self):\n",
    "        return self._mass_kilograms\n",
    "    \n",
    "    @mass_kilograms.setter\n",
    "    def mass_kilograms(self, value):\n",
    "        if value <= 0:\n",
    "            raise ValueError(\"mass_kilogram value {} is not positive\".format(value))\n",
    "        self._mass_kilograms = value\n",
    "    \n",
    "    @property\n",
    "    def orbital_period_seconds(self):\n",
    "        return self._orbital_period_seconds\n",
    "    @orbital_period_seconds.setter\n",
    "    def orbital_period_seconds(self, value):\n",
    "        if value <= 0:\n",
    "            raise ValueError(\"orbital_period_seconds value {} is not \"\n",
    "                        \"positive.\".format(value))\n",
    "        self._orbital_period_seconds = value\n",
    "    @property\n",
    "    def surface_temperature_kelvin(self):\n",
    "        return self._surface_temperature_kelvin\n",
    "    @surface_temperature_kelvin.setter\n",
    "    def surface_temperature_kelvin(self, value):\n",
    "        if value <= 0:\n",
    "            raise ValueError(\"surface_temperature_kelvin value {} is not \"\n",
    "                        \"positive.\".format(value))\n",
    "        self._surface_temperature_kelvin = value\n"
   ]
  },
  {
   "cell_type": "code",
   "execution_count": 7,
   "metadata": {},
   "outputs": [],
   "source": [
    "planet_x = Planet(name='X', radius_metres=-1, mass_kilograms=0,orbital_period_seconds=-7293234, surface_temperature_kelvin=-5)\n"
   ]
  },
  {
   "cell_type": "code",
   "execution_count": null,
   "metadata": {},
   "outputs": [],
   "source": []
  },
  {
   "cell_type": "code",
   "execution_count": null,
   "metadata": {},
   "outputs": [],
   "source": []
  }
 ],
 "metadata": {
  "kernelspec": {
   "display_name": "Python 3",
   "language": "python",
   "name": "python3"
  },
  "language_info": {
   "codemirror_mode": {
    "name": "ipython",
    "version": 3
   },
   "file_extension": ".py",
   "mimetype": "text/x-python",
   "name": "python",
   "nbconvert_exporter": "python",
   "pygments_lexer": "ipython3",
   "version": "3.7.7"
  }
 },
 "nbformat": 4,
 "nbformat_minor": 4
}
