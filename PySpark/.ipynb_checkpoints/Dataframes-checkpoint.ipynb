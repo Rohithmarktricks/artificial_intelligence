{
 "cells": [
  {
   "cell_type": "markdown",
   "metadata": {},
   "source": [
    "We will be using Spark(2.x), sparksession; a simplified entry point. It encapsulates the spart context(sc in spark 1.x). There is no more confusion about which context( hive context, sql context) to use. Sparksession subsumes SQLContext and HiveContext/\n"
   ]
  },
  {
   "cell_type": "code",
   "execution_count": 2,
   "metadata": {},
   "outputs": [],
   "source": [
    "from pyspark.sql import SparkSession # entry point to the spark application"
   ]
  },
  {
   "cell_type": "code",
   "execution_count": 5,
   "metadata": {},
   "outputs": [],
   "source": [
    "spark = SparkSession.builder.appName(\"Analyzing London crime data\").getOrCreate()\n",
    "# creates the spark session, with application name"
   ]
  },
  {
   "cell_type": "code",
   "execution_count": 7,
   "metadata": {},
   "outputs": [],
   "source": [
    "data = spark.read.format(\"csv\").option(\"header\", \"true\").load(\"london_crime_by_lsoa.csv\")\n",
    "# reads the dataset"
   ]
  },
  {
   "cell_type": "code",
   "execution_count": 9,
   "metadata": {},
   "outputs": [
    {
     "name": "stdout",
     "output_type": "stream",
     "text": [
      "root\n",
      " |-- lsoa_code: string (nullable = true)\n",
      " |-- borough: string (nullable = true)\n",
      " |-- major_category: string (nullable = true)\n",
      " |-- minor_category: string (nullable = true)\n",
      " |-- value: string (nullable = true)\n",
      " |-- year: string (nullable = true)\n",
      " |-- month: string (nullable = true)\n",
      "\n"
     ]
    }
   ],
   "source": [
    "data.printSchema() # to see the schema of the data"
   ]
  },
  {
   "cell_type": "code",
   "execution_count": 10,
   "metadata": {},
   "outputs": [
    {
     "data": {
      "text/plain": [
       "13490604"
      ]
     },
     "execution_count": 10,
     "metadata": {},
     "output_type": "execute_result"
    }
   ],
   "source": [
    "data.count()"
   ]
  },
  {
   "cell_type": "code",
   "execution_count": 13,
   "metadata": {},
   "outputs": [
    {
     "name": "stdout",
     "output_type": "stream",
     "text": [
      "+---------+----------+--------------------+--------------------+-----+----+-----+\n",
      "|lsoa_code|   borough|      major_category|      minor_category|value|year|month|\n",
      "+---------+----------+--------------------+--------------------+-----+----+-----+\n",
      "|E01001116|   Croydon|            Burglary|Burglary in Other...|    0|2016|   11|\n",
      "|E01001646| Greenwich|Violence Against ...|      Other violence|    0|2016|   11|\n",
      "|E01000677|   Bromley|Violence Against ...|      Other violence|    0|2015|    5|\n",
      "|E01003774| Redbridge|            Burglary|Burglary in Other...|    0|2016|    3|\n",
      "|E01004563|Wandsworth|             Robbery|   Personal Property|    0|2008|    6|\n",
      "+---------+----------+--------------------+--------------------+-----+----+-----+\n",
      "\n"
     ]
    }
   ],
   "source": [
    "# Let's get the subset of data\n",
    "data.limit(5).show()"
   ]
  },
  {
   "cell_type": "code",
   "execution_count": 14,
   "metadata": {},
   "outputs": [
    {
     "data": {
      "text/plain": [
       "DataFrame[lsoa_code: string, borough: string, major_category: string, minor_category: string, value: string, year: string, month: string]"
      ]
     },
     "execution_count": 14,
     "metadata": {},
     "output_type": "execute_result"
    }
   ],
   "source": [
    "data.dropna()"
   ]
  },
  {
   "cell_type": "code",
   "execution_count": 18,
   "metadata": {},
   "outputs": [
    {
     "name": "stdout",
     "output_type": "stream",
     "text": [
      "+----------+--------------------+--------------------+-----+----+-----+\n",
      "|   borough|      major_category|      minor_category|value|year|month|\n",
      "+----------+--------------------+--------------------+-----+----+-----+\n",
      "|   Croydon|            Burglary|Burglary in Other...|    0|2016|   11|\n",
      "| Greenwich|Violence Against ...|      Other violence|    0|2016|   11|\n",
      "|   Bromley|Violence Against ...|      Other violence|    0|2015|    5|\n",
      "| Redbridge|            Burglary|Burglary in Other...|    0|2016|    3|\n",
      "|Wandsworth|             Robbery|   Personal Property|    0|2008|    6|\n",
      "+----------+--------------------+--------------------+-----+----+-----+\n",
      "only showing top 5 rows\n",
      "\n"
     ]
    }
   ],
   "source": [
    "data = data.drop(\"lsoa_code\")\n",
    "data.show(5)"
   ]
  },
  {
   "cell_type": "code",
   "execution_count": 19,
   "metadata": {},
   "outputs": [
    {
     "name": "stdout",
     "output_type": "stream",
     "text": [
      "+--------------------+\n",
      "|             borough|\n",
      "+--------------------+\n",
      "|             Croydon|\n",
      "|          Wandsworth|\n",
      "|              Bexley|\n",
      "|             Lambeth|\n",
      "|Barking and Dagenham|\n",
      "|              Camden|\n",
      "|           Greenwich|\n",
      "|              Newham|\n",
      "|       Tower Hamlets|\n",
      "|            Hounslow|\n",
      "|              Barnet|\n",
      "|              Harrow|\n",
      "|Kensington and Ch...|\n",
      "|           Islington|\n",
      "|               Brent|\n",
      "|            Haringey|\n",
      "|             Bromley|\n",
      "|              Merton|\n",
      "|         Westminster|\n",
      "|             Hackney|\n",
      "+--------------------+\n",
      "only showing top 20 rows\n",
      "\n"
     ]
    }
   ],
   "source": [
    "total_boroughs = data.select('borough').distinct()\n",
    "\n",
    "total_boroughs.show()"
   ]
  },
  {
   "cell_type": "code",
   "execution_count": 20,
   "metadata": {},
   "outputs": [
    {
     "data": {
      "text/plain": [
       "33"
      ]
     },
     "execution_count": 20,
     "metadata": {},
     "output_type": "execute_result"
    }
   ],
   "source": [
    "total_boroughs.count()"
   ]
  },
  {
   "cell_type": "code",
   "execution_count": 21,
   "metadata": {},
   "outputs": [
    {
     "name": "stdout",
     "output_type": "stream",
     "text": [
      "+-------+--------------------+--------------------+-----+----+-----+\n",
      "|borough|      major_category|      minor_category|value|year|month|\n",
      "+-------+--------------------+--------------------+-----+----+-----+\n",
      "|Hackney|     Criminal Damage|Criminal Damage T...|    0|2011|    6|\n",
      "|Hackney|Violence Against ...|          Harassment|    1|2013|    2|\n",
      "|Hackney|     Criminal Damage|Other Criminal Da...|    0|2011|    7|\n",
      "|Hackney|Violence Against ...|        Wounding/GBH|    0|2013|   12|\n",
      "|Hackney|  Theft and Handling|  Other Theft Person|    0|2016|    8|\n",
      "+-------+--------------------+--------------------+-----+----+-----+\n",
      "only showing top 5 rows\n",
      "\n"
     ]
    }
   ],
   "source": [
    "# filter data\n",
    "\n",
    "hackney_data = data.filter(data['borough']==\"Hackney\")\n",
    "\n",
    "hackney_data.show(5)"
   ]
  },
  {
   "cell_type": "code",
   "execution_count": 24,
   "metadata": {},
   "outputs": [
    {
     "name": "stdout",
     "output_type": "stream",
     "text": [
      "+--------------------+--------------------+--------------------+-----+----+-----+\n",
      "|             borough|      major_category|      minor_category|value|year|month|\n",
      "+--------------------+--------------------+--------------------+-----+----+-----+\n",
      "|             Croydon|            Burglary|Burglary in Other...|    0|2016|   11|\n",
      "|             Lambeth|Violence Against ...|      Other violence|    0|2015|    4|\n",
      "|              Newham|     Criminal Damage|Criminal Damage T...|    0|2015|    1|\n",
      "|            Havering|            Burglary|Burglary in a Dwe...|    1|2016|    8|\n",
      "|              Newham|Violence Against ...|      Other violence|    0|2015|    3|\n",
      "|              Barnet|  Theft and Handling|Handling Stolen G...|    0|2016|    4|\n",
      "|             Hackney|Violence Against ...| Assault with Injury|    2|2015|    5|\n",
      "|             Enfield|  Theft and Handling|Theft From Motor ...|    2|2015|   10|\n",
      "|             Lambeth|               Drugs|    Drug Trafficking|    0|2015|    5|\n",
      "|             Croydon|Violence Against ...|        Wounding/GBH|    0|2016|    6|\n",
      "|           Greenwich|  Theft and Handling|  Other Theft Person|    0|2016|    4|\n",
      "|       Tower Hamlets|Violence Against ...|          Harassment|    1|2016|   10|\n",
      "|             Bromley|             Robbery|   Personal Property|    0|2015|    3|\n",
      "|Barking and Dagenham|     Criminal Damage|Criminal Damage T...|    4|2015|    6|\n",
      "|           Redbridge|Other Notifiable ...|      Going Equipped|    0|2015|    9|\n",
      "|            Havering|Violence Against ...|    Offensive Weapon|    0|2016|   11|\n",
      "|          Wandsworth|Other Notifiable ...|      Going Equipped|    0|2016|    2|\n",
      "|              Merton|Violence Against ...|          Harassment|    1|2016|    6|\n",
      "|           Southwark|     Criminal Damage|Criminal Damage T...|    2|2015|    6|\n",
      "|              Ealing|            Burglary|Burglary in Other...|    0|2016|    9|\n",
      "+--------------------+--------------------+--------------------+-----+----+-----+\n",
      "only showing top 20 rows\n",
      "\n"
     ]
    }
   ],
   "source": [
    "# only want those records that happend in the year 2015/2016\n",
    "\n",
    "data_2015_2016 = data.filter(data['year'].isin([\"2015\", \"2016\"]))\n",
    "# sample to see only a fraction of the entire data\n",
    "\n",
    "data_2015_2016.sample(fraction=0.1).show()"
   ]
  },
  {
   "cell_type": "code",
   "execution_count": null,
   "metadata": {},
   "outputs": [],
   "source": []
  },
  {
   "cell_type": "markdown",
   "metadata": {},
   "source": [
    "### Aggregations on Dataframes"
   ]
  },
  {
   "cell_type": "code",
   "execution_count": 28,
   "metadata": {},
   "outputs": [],
   "source": [
    "borough_crime_count = data.groupBy('borough').count()"
   ]
  },
  {
   "cell_type": "code",
   "execution_count": 30,
   "metadata": {},
   "outputs": [
    {
     "name": "stdout",
     "output_type": "stream",
     "text": [
      "+--------------------+------+\n",
      "|             borough| count|\n",
      "+--------------------+------+\n",
      "|             Croydon|602100|\n",
      "|          Wandsworth|498636|\n",
      "|              Bexley|385668|\n",
      "|             Lambeth|519048|\n",
      "|Barking and Dagenham|311040|\n",
      "|              Camden|378432|\n",
      "|           Greenwich|421200|\n",
      "|              Newham|471420|\n",
      "|       Tower Hamlets|412128|\n",
      "|            Hounslow|395928|\n",
      "|              Barnet|572832|\n",
      "|              Harrow|365688|\n",
      "|Kensington and Ch...|296784|\n",
      "|           Islington|359208|\n",
      "|               Brent|490644|\n",
      "|            Haringey|413856|\n",
      "|             Bromley|523908|\n",
      "|              Merton|339876|\n",
      "|         Westminster|366660|\n",
      "|             Hackney|417744|\n",
      "+--------------------+------+\n",
      "only showing top 20 rows\n",
      "\n"
     ]
    }
   ],
   "source": [
    "borough_crime_count.show()"
   ]
  },
  {
   "cell_type": "code",
   "execution_count": 31,
   "metadata": {},
   "outputs": [],
   "source": [
    "borough_conviction_sum = data.groupBy('borough').agg({\"value\":\"sum\"})\n",
    "# sum is an aggregation function that is available in pyspark. It calculates the sum of groupedby data in \"value\" column"
   ]
  },
  {
   "cell_type": "code",
   "execution_count": 32,
   "metadata": {},
   "outputs": [
    {
     "name": "stdout",
     "output_type": "stream",
     "text": [
      "+--------------------+----------+\n",
      "|             borough|sum(value)|\n",
      "+--------------------+----------+\n",
      "|             Croydon|  260294.0|\n",
      "|          Wandsworth|  204741.0|\n",
      "|              Bexley|  114136.0|\n",
      "|             Lambeth|  292178.0|\n",
      "|Barking and Dagenham|  149447.0|\n",
      "+--------------------+----------+\n",
      "only showing top 5 rows\n",
      "\n"
     ]
    }
   ],
   "source": [
    "borough_conviction_sum.show(5)"
   ]
  },
  {
   "cell_type": "markdown",
   "metadata": {},
   "source": [
    "value column contains the number of convictions per crime report. We have just found out the total number of convictions(per borough)\n",
    "\n",
    "\n",
    "But, let's rename the column sum(value)"
   ]
  },
  {
   "cell_type": "code",
   "execution_count": 34,
   "metadata": {},
   "outputs": [],
   "source": [
    "borough_conviction_sum = data.groupBy('borough').agg({\"value\":\"sum\"}).withColumnRenamed(\"sum(value)\", \"convictions\")"
   ]
  },
  {
   "cell_type": "code",
   "execution_count": 35,
   "metadata": {},
   "outputs": [
    {
     "name": "stdout",
     "output_type": "stream",
     "text": [
      "+--------------------+-----------+\n",
      "|             borough|convictions|\n",
      "+--------------------+-----------+\n",
      "|             Croydon|   260294.0|\n",
      "|          Wandsworth|   204741.0|\n",
      "|              Bexley|   114136.0|\n",
      "|             Lambeth|   292178.0|\n",
      "|Barking and Dagenham|   149447.0|\n",
      "+--------------------+-----------+\n",
      "only showing top 5 rows\n",
      "\n"
     ]
    }
   ],
   "source": [
    "borough_conviction_sum.show(5)"
   ]
  },
  {
   "cell_type": "code",
   "execution_count": 36,
   "metadata": {},
   "outputs": [],
   "source": [
    "total_borough_convictions = borough_conviction_sum.agg({\"convictions\":\"sum\"})"
   ]
  },
  {
   "cell_type": "code",
   "execution_count": 37,
   "metadata": {},
   "outputs": [
    {
     "name": "stdout",
     "output_type": "stream",
     "text": [
      "+----------------+\n",
      "|sum(convictions)|\n",
      "+----------------+\n",
      "|       6447758.0|\n",
      "+----------------+\n",
      "\n"
     ]
    }
   ],
   "source": [
    "total_borough_convictions.show()"
   ]
  },
  {
   "cell_type": "code",
   "execution_count": 38,
   "metadata": {},
   "outputs": [],
   "source": [
    "total_convictions = total_borough_convictions.collect()[0][0]"
   ]
  },
  {
   "cell_type": "markdown",
   "metadata": {},
   "source": [
    "we will use this information \"total_convictions\" to understand the percentage contribution of convictions on a per borough basis"
   ]
  },
  {
   "cell_type": "markdown",
   "metadata": {},
   "source": []
  },
  {
   "cell_type": "code",
   "execution_count": 39,
   "metadata": {},
   "outputs": [],
   "source": [
    "import pyspark.sql.functions as func"
   ]
  },
  {
   "cell_type": "code",
   "execution_count": 40,
   "metadata": {},
   "outputs": [
    {
     "name": "stdout",
     "output_type": "stream",
     "text": [
      "root\n",
      " |-- borough: string (nullable = true)\n",
      " |-- convictions: double (nullable = true)\n",
      " |-- % contribution: double (nullable = true)\n",
      "\n"
     ]
    }
   ],
   "source": [
    "# .withColumn(colname, col) is used to introduce a new column in borough_conviction_sum\n",
    " \n",
    "borough_percentage_contribution = borough_conviction_sum.withColumn(\"% contribution\", \n",
    "                                                                   func.round(borough_conviction_sum.convictions / total_convictions * 100, 2))\n",
    "\n",
    "\n",
    "borough_percentage_contribution.printSchema()"
   ]
  },
  {
   "cell_type": "code",
   "execution_count": 41,
   "metadata": {},
   "outputs": [
    {
     "name": "stdout",
     "output_type": "stream",
     "text": [
      "+-------------+-----------+--------------+\n",
      "|      borough|convictions|% contribution|\n",
      "+-------------+-----------+--------------+\n",
      "|  Westminster|   455028.0|          7.06|\n",
      "|      Lambeth|   292178.0|          4.53|\n",
      "|    Southwark|   278809.0|          4.32|\n",
      "|       Camden|   275147.0|          4.27|\n",
      "|       Newham|   262024.0|          4.06|\n",
      "|      Croydon|   260294.0|          4.04|\n",
      "|       Ealing|   251562.0|           3.9|\n",
      "|    Islington|   230286.0|          3.57|\n",
      "|Tower Hamlets|   228613.0|          3.55|\n",
      "|        Brent|   227551.0|          3.53|\n",
      "+-------------+-----------+--------------+\n",
      "only showing top 10 rows\n",
      "\n"
     ]
    }
   ],
   "source": [
    "borough_percentage_contribution.orderBy(borough_percentage_contribution[2].desc()).show(10)"
   ]
  },
  {
   "cell_type": "markdown",
   "metadata": {},
   "source": [
    "total convictions monthly for the year 2014"
   ]
  },
  {
   "cell_type": "code",
   "execution_count": 44,
   "metadata": {},
   "outputs": [],
   "source": [
    "convictions_monthly = data.filter(data['year'] == 2014) \\\n",
    "                            .groupBy('month')\\\n",
    "                            .agg({\"value\":\"sum\"}) \\\n",
    "                            .withColumnRenamed(\"sum(value)\", \"convictions\")"
   ]
  },
  {
   "cell_type": "code",
   "execution_count": 48,
   "metadata": {},
   "outputs": [
    {
     "name": "stdout",
     "output_type": "stream",
     "text": [
      "+-----+-----------+\n",
      "|month|convictions|\n",
      "+-----+-----------+\n",
      "|    7|    58564.0|\n",
      "|   11|    59704.0|\n",
      "|    3|    57669.0|\n",
      "|    8|    55641.0|\n",
      "|    5|    56327.0|\n",
      "|    6|    57039.0|\n",
      "|    9|    56933.0|\n",
      "|    1|    55515.0|\n",
      "|   10|    60537.0|\n",
      "|    4|    53467.0|\n",
      "|   12|    57565.0|\n",
      "|    2|    51222.0|\n",
      "+-----+-----------+\n",
      "\n"
     ]
    }
   ],
   "source": [
    "convictions_monthly.show()"
   ]
  },
  {
   "cell_type": "code",
   "execution_count": 50,
   "metadata": {},
   "outputs": [],
   "source": [
    "total_convictions_monthly = convictions_monthly.agg({\"convictions\":\"sum\"}).collect()[0][0]\n",
    "\n",
    "total_convictions_percent_monthly = convictions_monthly.withColumn(\"percentage\", \n",
    "                                func.round(convictions_monthly.convictions/total_convictions_monthly * 100, 2))"
   ]
  },
  {
   "cell_type": "code",
   "execution_count": 51,
   "metadata": {},
   "outputs": [
    {
     "data": {
      "text/plain": [
       "['month', 'convictions', 'percentage']"
      ]
     },
     "execution_count": 51,
     "metadata": {},
     "output_type": "execute_result"
    }
   ],
   "source": [
    "total_convictions_percent_monthly.columns"
   ]
  },
  {
   "cell_type": "code",
   "execution_count": 52,
   "metadata": {},
   "outputs": [
    {
     "name": "stdout",
     "output_type": "stream",
     "text": [
      "+-----+-----------+----------+\n",
      "|month|convictions|percentage|\n",
      "+-----+-----------+----------+\n",
      "|    7|    58564.0|      8.61|\n",
      "|   11|    59704.0|      8.78|\n",
      "|    3|    57669.0|      8.48|\n",
      "|    8|    55641.0|      8.18|\n",
      "|    5|    56327.0|      8.28|\n",
      "+-----+-----------+----------+\n",
      "only showing top 5 rows\n",
      "\n"
     ]
    }
   ],
   "source": [
    "total_convictions_percent_monthly.show(5)"
   ]
  },
  {
   "cell_type": "code",
   "execution_count": 54,
   "metadata": {},
   "outputs": [
    {
     "name": "stdout",
     "output_type": "stream",
     "text": [
      "+-----+-----------+----------+\n",
      "|month|convictions|percentage|\n",
      "+-----+-----------+----------+\n",
      "|   10|    60537.0|       8.9|\n",
      "|   11|    59704.0|      8.78|\n",
      "|    7|    58564.0|      8.61|\n",
      "|    3|    57669.0|      8.48|\n",
      "|   12|    57565.0|      8.46|\n",
      "|    6|    57039.0|      8.39|\n",
      "|    9|    56933.0|      8.37|\n",
      "|    5|    56327.0|      8.28|\n",
      "|    8|    55641.0|      8.18|\n",
      "|    1|    55515.0|      8.16|\n",
      "|    4|    53467.0|      7.86|\n",
      "|    2|    51222.0|      7.53|\n",
      "+-----+-----------+----------+\n",
      "\n"
     ]
    }
   ],
   "source": [
    "total_convictions_percent_monthly.orderBy(total_convictions_percent_monthly.percentage.desc()).show()"
   ]
  },
  {
   "cell_type": "code",
   "execution_count": 55,
   "metadata": {},
   "outputs": [],
   "source": [
    "crimes_category = data.groupBy('major_category').agg({\"value\":\"sum\"}).withColumnRenamed(\"sum(value)\", \"convictions\")"
   ]
  },
  {
   "cell_type": "code",
   "execution_count": 56,
   "metadata": {},
   "outputs": [
    {
     "name": "stdout",
     "output_type": "stream",
     "text": [
      "+--------------------+-----------+\n",
      "|      major_category|convictions|\n",
      "+--------------------+-----------+\n",
      "|  Theft and Handling|  2661861.0|\n",
      "|Violence Against ...|  1558081.0|\n",
      "|            Burglary|   754293.0|\n",
      "|     Criminal Damage|   630938.0|\n",
      "|               Drugs|   470765.0|\n",
      "|             Robbery|   258873.0|\n",
      "|Other Notifiable ...|   106349.0|\n",
      "|    Fraud or Forgery|     5325.0|\n",
      "|     Sexual Offences|     1273.0|\n",
      "+--------------------+-----------+\n",
      "\n"
     ]
    }
   ],
   "source": [
    "crimes_category.orderBy(crimes_category.convictions.desc()).show()"
   ]
  },
  {
   "cell_type": "code",
   "execution_count": null,
   "metadata": {},
   "outputs": [],
   "source": []
  },
  {
   "cell_type": "code",
   "execution_count": 58,
   "metadata": {},
   "outputs": [
    {
     "name": "stdout",
     "output_type": "stream",
     "text": [
      "+---------+\n",
      "|max(year)|\n",
      "+---------+\n",
      "|     2016|\n",
      "+---------+\n",
      "\n"
     ]
    }
   ],
   "source": [
    "year_df = data.select('year')\n",
    "\n",
    "year_df.agg({\"year\":\"max\"}).show()"
   ]
  },
  {
   "cell_type": "code",
   "execution_count": 59,
   "metadata": {},
   "outputs": [
    {
     "name": "stdout",
     "output_type": "stream",
     "text": [
      "+---------+\n",
      "|min(year)|\n",
      "+---------+\n",
      "|     2008|\n",
      "+---------+\n",
      "\n"
     ]
    }
   ],
   "source": [
    "year_df.agg({\"year\":\"min\"}).show()"
   ]
  },
  {
   "cell_type": "code",
   "execution_count": 60,
   "metadata": {},
   "outputs": [
    {
     "name": "stdout",
     "output_type": "stream",
     "text": [
      "+-------+------------------+\n",
      "|summary|              year|\n",
      "+-------+------------------+\n",
      "|  count|          13490604|\n",
      "|   mean|            2012.0|\n",
      "| stddev|2.5819889931674522|\n",
      "|    min|              2008|\n",
      "|    max|              2016|\n",
      "+-------+------------------+\n",
      "\n"
     ]
    }
   ],
   "source": [
    "year_df.describe().show()"
   ]
  },
  {
   "cell_type": "code",
   "execution_count": null,
   "metadata": {},
   "outputs": [],
   "source": []
  },
  {
   "cell_type": "markdown",
   "metadata": {},
   "source": [
    "Crosstab (matrix) representation"
   ]
  },
  {
   "cell_type": "markdown",
   "metadata": {},
   "source": [
    "borough_major_category is a column in the crosstab, that was generated. borough is the y-axis here."
   ]
  },
  {
   "cell_type": "code",
   "execution_count": 63,
   "metadata": {},
   "outputs": [
    {
     "name": "stdout",
     "output_type": "stream",
     "text": [
      "+----------------------+--------+-----+----------------+-------+\n",
      "|borough_major_category|Burglary|Drugs|Fraud or Forgery|Robbery|\n",
      "+----------------------+--------+-----+----------------+-------+\n",
      "|              Havering|   32400|32616|            5508|  27648|\n",
      "|                Merton|   26784|29160|            5724|  23652|\n",
      "|              Haringey|   31320|35424|           10368|  29484|\n",
      "|         Tower Hamlets|   31104|37368|            5400|  28512|\n",
      "|               Bromley|   42552|42336|            8532|  34668|\n",
      "|               Enfield|   39528|44064|            9720|  35532|\n",
      "|  Kingston upon Thames|   21168|22140|            3780|  15660|\n",
      "|           Westminster|   27648|32616|            8748|  25056|\n",
      "|  Richmond upon Thames|   24840|23004|            2808|  18468|\n",
      "|              Lewisham|   36504|43740|           11016|  34884|\n",
      "|                 Brent|   37368|46980|            9288|  34128|\n",
      "|  Barking and Dagenham|   23760|26244|            7236|  22248|\n",
      "|             Redbridge|   34776|36504|            8532|  32400|\n",
      "|             Islington|   26568|34128|            5184|  26244|\n",
      "|               Hackney|   31104|38772|            7560|  29160|\n",
      "|                Newham|   35424|41580|           10692|  34452|\n",
      "|        City of London|     540|  756|               0|    540|\n",
      "|                Sutton|   26136|26784|            3024|  21060|\n",
      "|             Southwark|   35856|45144|           11772|  35316|\n",
      "|                Harrow|   29592|31212|            4752|  23976|\n",
      "+----------------------+--------+-----+----------------+-------+\n",
      "only showing top 20 rows\n",
      "\n"
     ]
    }
   ],
   "source": [
    "data.crosstab('borough', 'major_category').select('borough_major_category', 'Burglary', 'Drugs', 'Fraud or Forgery', 'Robbery') \\\n",
    ".show()"
   ]
  },
  {
   "cell_type": "code",
   "execution_count": null,
   "metadata": {},
   "outputs": [],
   "source": []
  },
  {
   "cell_type": "code",
   "execution_count": null,
   "metadata": {},
   "outputs": [],
   "source": []
  },
  {
   "cell_type": "markdown",
   "metadata": {},
   "source": [
    "## Matplotlib"
   ]
  },
  {
   "cell_type": "code",
   "execution_count": 64,
   "metadata": {},
   "outputs": [],
   "source": [
    "import matplotlib.pyplot as plt\n",
    "%matplotlib inline"
   ]
  },
  {
   "cell_type": "code",
   "execution_count": 70,
   "metadata": {},
   "outputs": [],
   "source": [
    "def describe_year(year):\n",
    "    yearly_data = data.filter(data.year == year)\\\n",
    "    .groupBy('borough').agg({'value':'sum'}).withColumnRenamed(\"sum(value)\", \"convictions\")\n",
    "    \n",
    "    borough_list = [x[0] for x in yearly_data.toLocalIterator()]\n",
    "    convictions_list = [x[1] for x in yearly_data.toLocalIterator()]\n",
    "    \n",
    "    plt.figure(figsize = (33, 10))\n",
    "    plt.bar(borough_list, convictions_list)\n",
    "    plt.title(\"Crime for the year - \"+year, fontsize=30, color='r')\n",
    "    plt.xlabel(\"Boroughs\", fontsize=30)\n",
    "    plt.ylabel(\"Convictions\", fontsize=30)\n",
    "    \n",
    "    plt.xticks(rotation=90, fontsize=30)\n",
    "    plt.yticks(fontsize=30)\n",
    "    plt.autoscale()\n",
    "    plt.show()\n",
    "    "
   ]
  },
  {
   "cell_type": "code",
   "execution_count": 71,
   "metadata": {},
   "outputs": [
    {
     "data": {
      "image/png": "[encoded data removed]",
      "text/plain": [
       "<Figure size 2376x720 with 1 Axes>"
      ]
     },
     "metadata": {
      "needs_background": "light"
     },
     "output_type": "display_data"
    }
   ],
   "source": [
    "describe_year('2014')"
   ]
  },
  {
   "cell_type": "code",
   "execution_count": null,
   "metadata": {},
   "outputs": [],
   "source": []
  },
  {
   "cell_type": "code",
   "execution_count": null,
   "metadata": {},
   "outputs": [],
   "source": []
  },
  {
   "cell_type": "code",
   "execution_count": null,
   "metadata": {},
   "outputs": [],
   "source": []
  },
  {
   "cell_type": "markdown",
   "metadata": {},
   "source": [
    "## Accumulators and Broadcast Variables\n",
    "to share variables\n",
    "\n",
    "Broadcast variables - only 1 read-only copy per worker node. Tasks on the worker node will make use of it. Will be cached in-memory on each worker node. Use whenever there are tasks across stages, but all the tasks needs same data. Share dataset with all nodes, (training data in ML)\n",
    "\n",
    "\n",
    "Accumulators - Broadcasts variables to the worker nodes, but can be modified by adding to it, read-write variables. Can be modified at the worker nodes. And these modifications are restricted; they can only be added - associatively and commutatively. Spark native support for accumulators of type - Long, Double, Collections. But, you can extend by by subclassing AccumulatorV2 library.\n"
   ]
  },
  {
   "cell_type": "code",
   "execution_count": null,
   "metadata": {},
   "outputs": [],
   "source": []
  },
  {
   "cell_type": "code",
   "execution_count": null,
   "metadata": {},
   "outputs": [],
   "source": []
  }
 ],
 "metadata": {
  "kernelspec": {
   "display_name": "Python 3",
   "language": "python",
   "name": "python3"
  },
  "language_info": {
   "codemirror_mode": {
    "name": "ipython",
    "version": 3
   },
   "file_extension": ".py",
   "mimetype": "text/x-python",
   "name": "python",
   "nbconvert_exporter": "python",
   "pygments_lexer": "ipython3",
   "version": "3.7.6"
  }
 },
 "nbformat": 4,
 "nbformat_minor": 4
}
