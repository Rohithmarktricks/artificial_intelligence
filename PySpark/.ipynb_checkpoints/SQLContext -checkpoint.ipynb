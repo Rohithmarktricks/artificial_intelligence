{
 "cells": [
  {
   "cell_type": "code",
   "execution_count": 1,
   "metadata": {},
   "outputs": [
    {
     "data": {
      "text/html": [
       "\n",
       "        <div>\n",
       "            <p><b>SparkContext</b></p>\n",
       "\n",
       "            <p><a href=\"http://MSI:4040\">Spark UI</a></p>\n",
       "\n",
       "            <dl>\n",
       "              <dt>Version</dt>\n",
       "                <dd><code>v2.4.4</code></dd>\n",
       "              <dt>Master</dt>\n",
       "                <dd><code>local[*]</code></dd>\n",
       "              <dt>AppName</dt>\n",
       "                <dd><code>PySparkShell</code></dd>\n",
       "            </dl>\n",
       "        </div>\n",
       "        "
      ],
      "text/plain": [
       "<SparkContext master=local[*] appName=PySparkShell>"
      ]
     },
     "execution_count": 1,
     "metadata": {},
     "output_type": "execute_result"
    }
   ],
   "source": [
    "sc"
   ]
  },
  {
   "cell_type": "code",
   "execution_count": 2,
   "metadata": {},
   "outputs": [],
   "source": [
    "from pyspark.sql.types import Row\n",
    "from datetime import datetime"
   ]
  },
  {
   "cell_type": "markdown",
   "metadata": {},
   "source": [
    "Using Row, we can define RDD's and use them to create Dataframes"
   ]
  },
  {
   "cell_type": "code",
   "execution_count": 3,
   "metadata": {},
   "outputs": [],
   "source": [
    "complex_data = sc.parallelize([Row(col_float = 1.44, col_integer=10, col_string=\"Hello\")])"
   ]
  },
  {
   "cell_type": "code",
   "execution_count": 4,
   "metadata": {},
   "outputs": [],
   "source": [
    "complex_data_df = complex_data.toDF()"
   ]
  },
  {
   "cell_type": "code",
   "execution_count": 6,
   "metadata": {},
   "outputs": [
    {
     "name": "stdout",
     "output_type": "stream",
     "text": [
      "+---------+-----------+----------+\n",
      "|col_float|col_integer|col_string|\n",
      "+---------+-----------+----------+\n",
      "|     1.44|         10|     Hello|\n",
      "+---------+-----------+----------+\n",
      "\n"
     ]
    }
   ],
   "source": [
    "complex_data_df.show()"
   ]
  },
  {
   "cell_type": "code",
   "execution_count": 7,
   "metadata": {},
   "outputs": [],
   "source": [
    "complex_data2 = sc.parallelize([\n",
    "    Row(\n",
    "    col_list = [1,2,3,4],\n",
    "    col_dict = {\"k1\":10},\n",
    "    col_row = Row(a=10, b=20, c=30),\n",
    "    col_date = datetime(2020, 4, 22, 17, 2, 2)),\n",
    "    Row(\n",
    "    col_list = [1,2,3,4],\n",
    "    col_dict = {\"k1\":10},\n",
    "    col_row = Row(a=10, b=20, c=30),\n",
    "    col_date = datetime(2020, 4, 22, 17, 2, 2)),\n",
    "    Row(\n",
    "    col_list = [1,2,3,4],\n",
    "    col_dict = {\"k1\":10},\n",
    "    col_row = Row(a=10, b=20, c=30),\n",
    "    col_date = datetime(2020, 4, 22, 17, 2, 2))\n",
    "])"
   ]
  },
  {
   "cell_type": "code",
   "execution_count": 8,
   "metadata": {},
   "outputs": [],
   "source": [
    "complex_data2_df = complex_data2.toDF()"
   ]
  },
  {
   "cell_type": "code",
   "execution_count": 10,
   "metadata": {},
   "outputs": [
    {
     "name": "stdout",
     "output_type": "stream",
     "text": [
      "+-------------------+----------+------------+------------+\n",
      "|           col_date|  col_dict|    col_list|     col_row|\n",
      "+-------------------+----------+------------+------------+\n",
      "|2020-04-22 17:02:02|[k1 -> 10]|[1, 2, 3, 4]|[10, 20, 30]|\n",
      "|2020-04-22 17:02:02|[k1 -> 10]|[1, 2, 3, 4]|[10, 20, 30]|\n",
      "|2020-04-22 17:02:02|[k1 -> 10]|[1, 2, 3, 4]|[10, 20, 30]|\n",
      "+-------------------+----------+------------+------------+\n",
      "\n"
     ]
    }
   ],
   "source": [
    "complex_data2_df.show()"
   ]
  },
  {
   "cell_type": "markdown",
   "metadata": {},
   "source": [
    "Let's create a SQLContext object and use it"
   ]
  },
  {
   "cell_type": "code",
   "execution_count": 11,
   "metadata": {},
   "outputs": [],
   "source": [
    "sqlcontext= SQLContext(sc)"
   ]
  },
  {
   "cell_type": "code",
   "execution_count": 12,
   "metadata": {},
   "outputs": [
    {
     "data": {
      "text/plain": [
       "<pyspark.sql.context.SQLContext at 0x1eaba049708>"
      ]
     },
     "execution_count": 12,
     "metadata": {},
     "output_type": "execute_result"
    }
   ],
   "source": [
    "sqlcontext"
   ]
  },
  {
   "cell_type": "code",
   "execution_count": 13,
   "metadata": {},
   "outputs": [],
   "source": [
    "df = sqlcontext.range(5)"
   ]
  },
  {
   "cell_type": "code",
   "execution_count": 14,
   "metadata": {},
   "outputs": [
    {
     "name": "stdout",
     "output_type": "stream",
     "text": [
      "+---+\n",
      "| id|\n",
      "+---+\n",
      "|  0|\n",
      "|  1|\n",
      "|  2|\n",
      "|  3|\n",
      "|  4|\n",
      "+---+\n",
      "\n"
     ]
    }
   ],
   "source": [
    "df.show()"
   ]
  },
  {
   "cell_type": "code",
   "execution_count": 15,
   "metadata": {},
   "outputs": [],
   "source": [
    "data = [(\"Alice\", 50), (\"Bob\", 60), (\"Charlie\", 100)]"
   ]
  },
  {
   "cell_type": "code",
   "execution_count": 16,
   "metadata": {},
   "outputs": [],
   "source": [
    "df2 = sqlcontext.createDataFrame(data)"
   ]
  },
  {
   "cell_type": "code",
   "execution_count": 17,
   "metadata": {},
   "outputs": [
    {
     "name": "stdout",
     "output_type": "stream",
     "text": [
      "+-------+---+\n",
      "|     _1| _2|\n",
      "+-------+---+\n",
      "|  Alice| 50|\n",
      "|    Bob| 60|\n",
      "|Charlie|100|\n",
      "+-------+---+\n",
      "\n"
     ]
    }
   ],
   "source": [
    "df2.show()"
   ]
  },
  {
   "cell_type": "code",
   "execution_count": 18,
   "metadata": {},
   "outputs": [],
   "source": [
    "df_names = sqlcontext.createDataFrame(data, [\"Name\", \"Marks\"])"
   ]
  },
  {
   "cell_type": "code",
   "execution_count": 20,
   "metadata": {},
   "outputs": [
    {
     "name": "stdout",
     "output_type": "stream",
     "text": [
      "+-------+-----+\n",
      "|   Name|Marks|\n",
      "+-------+-----+\n",
      "|  Alice|   50|\n",
      "|    Bob|   60|\n",
      "|Charlie|  100|\n",
      "+-------+-----+\n",
      "\n"
     ]
    }
   ],
   "source": [
    "df_names.show()"
   ]
  },
  {
   "cell_type": "code",
   "execution_count": 21,
   "metadata": {},
   "outputs": [],
   "source": [
    "dr = sc.parallelize([Row(1, \"Alice\", 200),\n",
    "                    Row(2, \"Bob\", 300),\n",
    "                     Row(3, \"Charlie\", 400)])"
   ]
  },
  {
   "cell_type": "code",
   "execution_count": 22,
   "metadata": {},
   "outputs": [],
   "source": [
    "col_names = Row('id', 'name', 'score')"
   ]
  },
  {
   "cell_type": "code",
   "execution_count": 23,
   "metadata": {},
   "outputs": [],
   "source": [
    "students = dr.map(lambda r: col_names(*r))"
   ]
  },
  {
   "cell_type": "code",
   "execution_count": 26,
   "metadata": {},
   "outputs": [
    {
     "data": {
      "text/plain": [
       "[Row(id=1, name='Alice', score=200),\n",
       " Row(id=2, name='Bob', score=300),\n",
       " Row(id=3, name='Charlie', score=400)]"
      ]
     },
     "execution_count": 26,
     "metadata": {},
     "output_type": "execute_result"
    }
   ],
   "source": [
    "students.collect()"
   ]
  },
  {
   "cell_type": "code",
   "execution_count": 27,
   "metadata": {},
   "outputs": [],
   "source": [
    "students_df = sqlcontext.createDataFrame(students)"
   ]
  },
  {
   "cell_type": "code",
   "execution_count": 28,
   "metadata": {},
   "outputs": [
    {
     "data": {
      "text/plain": [
       "[Row(id=1, name='Alice', score=200),\n",
       " Row(id=2, name='Bob', score=300),\n",
       " Row(id=3, name='Charlie', score=400)]"
      ]
     },
     "execution_count": 28,
     "metadata": {},
     "output_type": "execute_result"
    }
   ],
   "source": [
    "students_df.collect()"
   ]
  },
  {
   "cell_type": "code",
   "execution_count": 29,
   "metadata": {},
   "outputs": [
    {
     "name": "stdout",
     "output_type": "stream",
     "text": [
      "+---+-------+-----+\n",
      "| id|   name|score|\n",
      "+---+-------+-----+\n",
      "|  1|  Alice|  200|\n",
      "|  2|    Bob|  300|\n",
      "|  3|Charlie|  400|\n",
      "+---+-------+-----+\n",
      "\n"
     ]
    }
   ],
   "source": [
    "students_df.show()"
   ]
  },
  {
   "cell_type": "code",
   "execution_count": 30,
   "metadata": {},
   "outputs": [],
   "source": [
    "complex_data3 = [\n",
    "    (1.0, 10, \"Alice\", True, [1,2,3], {\"k1\":0}, Row(a=1, b=2, c=3), datetime(2020, 4, 22, 18, 6, 6)),\n",
    "    (1.0, 10, \"Bob\", True, [1,2,3], {\"k1\":0, \"k1\":1}, Row(a=1, b=2, c=3), datetime(2020, 4, 22, 18, 6, 7)),\n",
    "    (1.0, 10, \"Charlie\", True, [1,2,3, 4], {\"k1\":0, \"k1\":1, \"k2\":2}, Row(a=1, b=2, c=3), datetime(2020, 4, 22, 18, 6, 8)),\n",
    "    (1.0, 10, \"Don\", False, [1,2,3], {\"k1\":0, \"k1\":1, \"k2\":2}, Row(a=1, b=2, c=3), datetime(2020, 4, 22, 18, 6, 9)),\n",
    "    (1.0, 10, \"Ex\", True, [1,2,3, 4, 5, 6], {\"k1\":0, \"k1\":1, \"k2\":2, \"k3\":3}, Row(a=1, b=2, c=3), datetime(2020, 4, 22, 18, 6, 10)),\n",
    "    \n",
    "]"
   ]
  },
  {
   "cell_type": "code",
   "execution_count": 33,
   "metadata": {},
   "outputs": [
    {
     "data": {
      "text/plain": [
       "list"
      ]
     },
     "execution_count": 33,
     "metadata": {},
     "output_type": "execute_result"
    }
   ],
   "source": [
    "type(complex_data3)"
   ]
  },
  {
   "cell_type": "markdown",
   "metadata": {},
   "source": [
    "Using sql context, you don't have to convert into RDD and then convert into dataframes, rather the list(defined above) can be used to create dataframe"
   ]
  },
  {
   "cell_type": "code",
   "execution_count": 31,
   "metadata": {},
   "outputs": [],
   "source": [
    "cm_df = sqlcontext.createDataFrame(complex_data3)"
   ]
  },
  {
   "cell_type": "code",
   "execution_count": 32,
   "metadata": {},
   "outputs": [
    {
     "name": "stdout",
     "output_type": "stream",
     "text": [
      "+---+---+-------+-----+------------------+--------------------+---------+-------------------+\n",
      "| _1| _2|     _3|   _4|                _5|                  _6|       _7|                 _8|\n",
      "+---+---+-------+-----+------------------+--------------------+---------+-------------------+\n",
      "|1.0| 10|  Alice| true|         [1, 2, 3]|           [k1 -> 0]|[1, 2, 3]|2020-04-22 18:06:06|\n",
      "|1.0| 10|    Bob| true|         [1, 2, 3]|           [k1 -> 1]|[1, 2, 3]|2020-04-22 18:06:07|\n",
      "|1.0| 10|Charlie| true|      [1, 2, 3, 4]|  [k1 -> 1, k2 -> 2]|[1, 2, 3]|2020-04-22 18:06:08|\n",
      "|1.0| 10|    Don|false|         [1, 2, 3]|  [k1 -> 1, k2 -> 2]|[1, 2, 3]|2020-04-22 18:06:09|\n",
      "|1.0| 10|     Ex| true|[1, 2, 3, 4, 5, 6]|[k3 -> 3, k1 -> 1...|[1, 2, 3]|2020-04-22 18:06:10|\n",
      "+---+---+-------+-----+------------------+--------------------+---------+-------------------+\n",
      "\n"
     ]
    }
   ],
   "source": [
    "cm_df.show()"
   ]
  },
  {
   "cell_type": "markdown",
   "metadata": {},
   "source": [
    "By default the list of items are converted to Row objects. "
   ]
  },
  {
   "cell_type": "code",
   "execution_count": 34,
   "metadata": {},
   "outputs": [],
   "source": [
    "ll= sc.parallelize([[1, 2, 3],[4, 5, 6]])"
   ]
  },
  {
   "cell_type": "code",
   "execution_count": 35,
   "metadata": {},
   "outputs": [
    {
     "data": {
      "text/plain": [
       "[[1, 2, 3], [4, 5, 6]]"
      ]
     },
     "execution_count": 35,
     "metadata": {},
     "output_type": "execute_result"
    }
   ],
   "source": [
    "ll.collect()"
   ]
  },
  {
   "cell_type": "code",
   "execution_count": 37,
   "metadata": {},
   "outputs": [],
   "source": [
    "dfll = ll.toDF()"
   ]
  },
  {
   "cell_type": "code",
   "execution_count": 38,
   "metadata": {},
   "outputs": [
    {
     "data": {
      "text/plain": [
       "[Row(_1=1, _2=2, _3=3), Row(_1=4, _2=5, _3=6)]"
      ]
     },
     "execution_count": 38,
     "metadata": {},
     "output_type": "execute_result"
    }
   ],
   "source": [
    "dfll.collect()"
   ]
  },
  {
   "cell_type": "code",
   "execution_count": 40,
   "metadata": {},
   "outputs": [
    {
     "name": "stdout",
     "output_type": "stream",
     "text": [
      "+---+---+---+\n",
      "| _1| _2| _3|\n",
      "+---+---+---+\n",
      "|  1|  2|  3|\n",
      "|  4|  5|  6|\n",
      "+---+---+---+\n",
      "\n"
     ]
    }
   ],
   "source": [
    "dfll.show()"
   ]
  },
  {
   "cell_type": "code",
   "execution_count": null,
   "metadata": {},
   "outputs": [],
   "source": []
  },
  {
   "cell_type": "code",
   "execution_count": 41,
   "metadata": {},
   "outputs": [],
   "source": [
    "complex_data_df_names = sqlcontext.createDataFrame(complex_data3, ['col_float', 'col_int', 'col_str', 'col_bool', 'col_list', 'col_dict', 'col_row', 'col_date'])"
   ]
  },
  {
   "cell_type": "code",
   "execution_count": 42,
   "metadata": {},
   "outputs": [
    {
     "name": "stdout",
     "output_type": "stream",
     "text": [
      "+---------+-------+-------+--------+------------------+--------------------+---------+-------------------+\n",
      "|col_float|col_int|col_str|col_bool|          col_list|            col_dict|  col_row|           col_date|\n",
      "+---------+-------+-------+--------+------------------+--------------------+---------+-------------------+\n",
      "|      1.0|     10|  Alice|    true|         [1, 2, 3]|           [k1 -> 0]|[1, 2, 3]|2020-04-22 18:06:06|\n",
      "|      1.0|     10|    Bob|    true|         [1, 2, 3]|           [k1 -> 1]|[1, 2, 3]|2020-04-22 18:06:07|\n",
      "|      1.0|     10|Charlie|    true|      [1, 2, 3, 4]|  [k1 -> 1, k2 -> 2]|[1, 2, 3]|2020-04-22 18:06:08|\n",
      "|      1.0|     10|    Don|   false|         [1, 2, 3]|  [k1 -> 1, k2 -> 2]|[1, 2, 3]|2020-04-22 18:06:09|\n",
      "|      1.0|     10|     Ex|    true|[1, 2, 3, 4, 5, 6]|[k3 -> 3, k1 -> 1...|[1, 2, 3]|2020-04-22 18:06:10|\n",
      "+---------+-------+-------+--------+------------------+--------------------+---------+-------------------+\n",
      "\n"
     ]
    }
   ],
   "source": [
    "complex_data_df_names.show()"
   ]
  },
  {
   "cell_type": "code",
   "execution_count": 43,
   "metadata": {},
   "outputs": [],
   "source": [
    "# Let's do it another way:\n",
    "\n",
    "data = sc.parallelize([Row(1, \"Alice\", 500),\n",
    "                     Row(2, \"Bob\", 600),\n",
    "                     Row(3, \"Charlie\", 700)])"
   ]
  },
  {
   "cell_type": "code",
   "execution_count": 44,
   "metadata": {},
   "outputs": [],
   "source": [
    "data_df = data.toDF()"
   ]
  },
  {
   "cell_type": "code",
   "execution_count": 45,
   "metadata": {},
   "outputs": [
    {
     "name": "stdout",
     "output_type": "stream",
     "text": [
      "+---+-------+---+\n",
      "| _1|     _2| _3|\n",
      "+---+-------+---+\n",
      "|  1|  Alice|500|\n",
      "|  2|    Bob|600|\n",
      "|  3|Charlie|700|\n",
      "+---+-------+---+\n",
      "\n"
     ]
    }
   ],
   "source": [
    "data_df.show()"
   ]
  },
  {
   "cell_type": "code",
   "execution_count": null,
   "metadata": {},
   "outputs": [],
   "source": []
  },
  {
   "cell_type": "markdown",
   "metadata": {},
   "source": [
    "#### Experiment with complex df"
   ]
  },
  {
   "cell_type": "code",
   "execution_count": 46,
   "metadata": {},
   "outputs": [
    {
     "data": {
      "text/plain": [
       "Row(col_float=1.0, col_int=10, col_str='Alice', col_bool=True, col_list=[1, 2, 3], col_dict={'k1': 0}, col_row=Row(a=1, b=2, c=3), col_date=datetime.datetime(2020, 4, 22, 18, 6, 6))"
      ]
     },
     "execution_count": 46,
     "metadata": {},
     "output_type": "execute_result"
    }
   ],
   "source": [
    "complex_data_df_names.first()"
   ]
  },
  {
   "cell_type": "code",
   "execution_count": 47,
   "metadata": {},
   "outputs": [
    {
     "data": {
      "text/plain": [
       "[Row(col_float=1.0, col_int=10, col_str='Alice', col_bool=True, col_list=[1, 2, 3], col_dict={'k1': 0}, col_row=Row(a=1, b=2, c=3), col_date=datetime.datetime(2020, 4, 22, 18, 6, 6)),\n",
       " Row(col_float=1.0, col_int=10, col_str='Bob', col_bool=True, col_list=[1, 2, 3], col_dict={'k1': 1}, col_row=Row(a=1, b=2, c=3), col_date=datetime.datetime(2020, 4, 22, 18, 6, 7))]"
      ]
     },
     "execution_count": 47,
     "metadata": {},
     "output_type": "execute_result"
    }
   ],
   "source": [
    "complex_data_df_names.take(2)"
   ]
  },
  {
   "cell_type": "code",
   "execution_count": 48,
   "metadata": {},
   "outputs": [],
   "source": [
    "cell_string = complex_data_df_names.collect()[0][2]"
   ]
  },
  {
   "cell_type": "code",
   "execution_count": 49,
   "metadata": {},
   "outputs": [
    {
     "data": {
      "text/plain": [
       "'Alice'"
      ]
     },
     "execution_count": 49,
     "metadata": {},
     "output_type": "execute_result"
    }
   ],
   "source": [
    "cell_string"
   ]
  },
  {
   "cell_type": "code",
   "execution_count": 50,
   "metadata": {},
   "outputs": [],
   "source": [
    "cell_list = complex_data_df_names.collect()[0][4]"
   ]
  },
  {
   "cell_type": "code",
   "execution_count": 53,
   "metadata": {},
   "outputs": [
    {
     "data": {
      "text/plain": [
       "[1, 2, 3, 100, 100]"
      ]
     },
     "execution_count": 53,
     "metadata": {},
     "output_type": "execute_result"
    }
   ],
   "source": [
    "cell_list.append(100)\n",
    "cell_list"
   ]
  },
  {
   "cell_type": "code",
   "execution_count": 54,
   "metadata": {},
   "outputs": [
    {
     "name": "stdout",
     "output_type": "stream",
     "text": [
      "+---------+-------+-------+--------+------------------+--------------------+---------+-------------------+\n",
      "|col_float|col_int|col_str|col_bool|          col_list|            col_dict|  col_row|           col_date|\n",
      "+---------+-------+-------+--------+------------------+--------------------+---------+-------------------+\n",
      "|      1.0|     10|  Alice|    true|         [1, 2, 3]|           [k1 -> 0]|[1, 2, 3]|2020-04-22 18:06:06|\n",
      "|      1.0|     10|    Bob|    true|         [1, 2, 3]|           [k1 -> 1]|[1, 2, 3]|2020-04-22 18:06:07|\n",
      "|      1.0|     10|Charlie|    true|      [1, 2, 3, 4]|  [k1 -> 1, k2 -> 2]|[1, 2, 3]|2020-04-22 18:06:08|\n",
      "|      1.0|     10|    Don|   false|         [1, 2, 3]|  [k1 -> 1, k2 -> 2]|[1, 2, 3]|2020-04-22 18:06:09|\n",
      "|      1.0|     10|     Ex|    true|[1, 2, 3, 4, 5, 6]|[k3 -> 3, k1 -> 1...|[1, 2, 3]|2020-04-22 18:06:10|\n",
      "+---------+-------+-------+--------+------------------+--------------------+---------+-------------------+\n",
      "\n"
     ]
    }
   ],
   "source": [
    "complex_data_df_names.show()"
   ]
  },
  {
   "cell_type": "markdown",
   "metadata": {},
   "source": [
    "Extract specific columns by converting the dataframes to an RDD. Result is an RDD"
   ]
  },
  {
   "cell_type": "code",
   "execution_count": 57,
   "metadata": {},
   "outputs": [
    {
     "data": {
      "text/plain": [
       "[('Alice', {'k1': 0}),\n",
       " ('Bob', {'k1': 1}),\n",
       " ('Charlie', {'k1': 1, 'k2': 2}),\n",
       " ('Don', {'k1': 1, 'k2': 2}),\n",
       " ('Ex', {'k3': 3, 'k1': 1, 'k2': 2})]"
      ]
     },
     "execution_count": 57,
     "metadata": {},
     "output_type": "execute_result"
    }
   ],
   "source": [
    "complex_data_df_names.rdd.map(lambda x: (x.col_str, x.col_dict)).collect()"
   ]
  },
  {
   "cell_type": "markdown",
   "metadata": {},
   "source": [
    "RDD can be converted to df using tdDF() and the dataframe can be converted to rdd using .rdd attribute"
   ]
  },
  {
   "cell_type": "markdown",
   "metadata": {},
   "source": [
    ".select() can be used diretly on the dataframes, but the result is a dataframe"
   ]
  },
  {
   "cell_type": "code",
   "execution_count": 58,
   "metadata": {},
   "outputs": [
    {
     "name": "stdout",
     "output_type": "stream",
     "text": [
      "+-------+------------------+--------------------+\n",
      "|col_str|          col_list|            col_dict|\n",
      "+-------+------------------+--------------------+\n",
      "|  Alice|         [1, 2, 3]|           [k1 -> 0]|\n",
      "|    Bob|         [1, 2, 3]|           [k1 -> 1]|\n",
      "|Charlie|      [1, 2, 3, 4]|  [k1 -> 1, k2 -> 2]|\n",
      "|    Don|         [1, 2, 3]|  [k1 -> 1, k2 -> 2]|\n",
      "|     Ex|[1, 2, 3, 4, 5, 6]|[k3 -> 3, k1 -> 1...|\n",
      "+-------+------------------+--------------------+\n",
      "\n"
     ]
    }
   ],
   "source": [
    "complex_data_df_names.select('col_str', 'col_list', 'col_dict').show()"
   ]
  },
  {
   "cell_type": "code",
   "execution_count": null,
   "metadata": {},
   "outputs": [],
   "source": []
  },
  {
   "cell_type": "code",
   "execution_count": null,
   "metadata": {},
   "outputs": [],
   "source": []
  },
  {
   "cell_type": "markdown",
   "metadata": {},
   "source": [
    "### Let's extract col_str and append \"Boo\" to it"
   ]
  },
  {
   "cell_type": "code",
   "execution_count": 60,
   "metadata": {},
   "outputs": [
    {
     "data": {
      "text/plain": [
       "['AliceBoo', 'BobBoo', 'CharlieBoo', 'DonBoo', 'ExBoo']"
      ]
     },
     "execution_count": 60,
     "metadata": {},
     "output_type": "execute_result"
    }
   ],
   "source": [
    "complex_data_df_names.rdd.map(lambda x: (x.col_str + \"Boo\")).collect()"
   ]
  },
  {
   "cell_type": "code",
   "execution_count": 62,
   "metadata": {},
   "outputs": [
    {
     "name": "stdout",
     "output_type": "stream",
     "text": [
      "+-------+---------+-------+\n",
      "|col_int|col_float|col_sum|\n",
      "+-------+---------+-------+\n",
      "|     10|      1.0|   11.0|\n",
      "|     10|      1.0|   11.0|\n",
      "|     10|      1.0|   11.0|\n",
      "|     10|      1.0|   11.0|\n",
      "|     10|      1.0|   11.0|\n",
      "+-------+---------+-------+\n",
      "\n"
     ]
    }
   ],
   "source": [
    "col_sum = complex_data_df_names.select('col_int', 'col_float').withColumn(\"col_sum\", complex_data_df_names.col_int + complex_data_df_names.col_float).show()"
   ]
  },
  {
   "cell_type": "code",
   "execution_count": null,
   "metadata": {},
   "outputs": [],
   "source": []
  },
  {
   "cell_type": "code",
   "execution_count": 65,
   "metadata": {},
   "outputs": [
    {
     "name": "stdout",
     "output_type": "stream",
     "text": [
      "+---------+-------+-------+--------+------------------+--------------------+---------+-------------------+\n",
      "|col_float|col_int|col_str|col_bool|          col_list|             col_map|  col_row|           col_date|\n",
      "+---------+-------+-------+--------+------------------+--------------------+---------+-------------------+\n",
      "|      1.0|     10|  Alice|    true|         [1, 2, 3]|           [k1 -> 0]|[1, 2, 3]|2020-04-22 18:06:06|\n",
      "|      1.0|     10|    Bob|    true|         [1, 2, 3]|           [k1 -> 1]|[1, 2, 3]|2020-04-22 18:06:07|\n",
      "|      1.0|     10|Charlie|    true|      [1, 2, 3, 4]|  [k1 -> 1, k2 -> 2]|[1, 2, 3]|2020-04-22 18:06:08|\n",
      "|      1.0|     10|    Don|   false|         [1, 2, 3]|  [k1 -> 1, k2 -> 2]|[1, 2, 3]|2020-04-22 18:06:09|\n",
      "|      1.0|     10|     Ex|    true|[1, 2, 3, 4, 5, 6]|[k3 -> 3, k1 -> 1...|[1, 2, 3]|2020-04-22 18:06:10|\n",
      "+---------+-------+-------+--------+------------------+--------------------+---------+-------------------+\n",
      "\n"
     ]
    }
   ],
   "source": [
    "complex_data_df_names.withColumnRenamed(\"col_dict\", \"col_map\").show()"
   ]
  },
  {
   "cell_type": "code",
   "execution_count": 66,
   "metadata": {},
   "outputs": [
    {
     "name": "stdout",
     "output_type": "stream",
     "text": [
      "+-------+\n",
      "|   Name|\n",
      "+-------+\n",
      "|  Alice|\n",
      "|    Bob|\n",
      "|Charlie|\n",
      "|    Don|\n",
      "|     Ex|\n",
      "+-------+\n",
      "\n"
     ]
    }
   ],
   "source": [
    "complex_data_df_names.select(complex_data_df_names.col_str.alias(\"Name\")).show()"
   ]
  },
  {
   "cell_type": "code",
   "execution_count": 67,
   "metadata": {},
   "outputs": [],
   "source": [
    "import pandas"
   ]
  },
  {
   "cell_type": "code",
   "execution_count": 68,
   "metadata": {},
   "outputs": [],
   "source": [
    "df_pandas = complex_data_df_names.toPandas()"
   ]
  },
  {
   "cell_type": "code",
   "execution_count": 69,
   "metadata": {},
   "outputs": [
    {
     "data": {
      "text/html": [
       "<div>\n",
       "<style scoped>\n",
       "    .dataframe tbody tr th:only-of-type {\n",
       "        vertical-align: middle;\n",
       "    }\n",
       "\n",
       "    .dataframe tbody tr th {\n",
       "        vertical-align: top;\n",
       "    }\n",
       "\n",
       "    .dataframe thead th {\n",
       "        text-align: right;\n",
       "    }\n",
       "</style>\n",
       "<table border=\"1\" class=\"dataframe\">\n",
       "  <thead>\n",
       "    <tr style=\"text-align: right;\">\n",
       "      <th></th>\n",
       "      <th>col_float</th>\n",
       "      <th>col_int</th>\n",
       "      <th>col_str</th>\n",
       "      <th>col_bool</th>\n",
       "      <th>col_list</th>\n",
       "      <th>col_dict</th>\n",
       "      <th>col_row</th>\n",
       "      <th>col_date</th>\n",
       "    </tr>\n",
       "  </thead>\n",
       "  <tbody>\n",
       "    <tr>\n",
       "      <th>0</th>\n",
       "      <td>1.0</td>\n",
       "      <td>10</td>\n",
       "      <td>Alice</td>\n",
       "      <td>True</td>\n",
       "      <td>[1, 2, 3]</td>\n",
       "      <td>{'k1': 0}</td>\n",
       "      <td>(1, 2, 3)</td>\n",
       "      <td>2020-04-22 18:06:06</td>\n",
       "    </tr>\n",
       "    <tr>\n",
       "      <th>1</th>\n",
       "      <td>1.0</td>\n",
       "      <td>10</td>\n",
       "      <td>Bob</td>\n",
       "      <td>True</td>\n",
       "      <td>[1, 2, 3]</td>\n",
       "      <td>{'k1': 1}</td>\n",
       "      <td>(1, 2, 3)</td>\n",
       "      <td>2020-04-22 18:06:07</td>\n",
       "    </tr>\n",
       "    <tr>\n",
       "      <th>2</th>\n",
       "      <td>1.0</td>\n",
       "      <td>10</td>\n",
       "      <td>Charlie</td>\n",
       "      <td>True</td>\n",
       "      <td>[1, 2, 3, 4]</td>\n",
       "      <td>{'k1': 1, 'k2': 2}</td>\n",
       "      <td>(1, 2, 3)</td>\n",
       "      <td>2020-04-22 18:06:08</td>\n",
       "    </tr>\n",
       "    <tr>\n",
       "      <th>3</th>\n",
       "      <td>1.0</td>\n",
       "      <td>10</td>\n",
       "      <td>Don</td>\n",
       "      <td>False</td>\n",
       "      <td>[1, 2, 3]</td>\n",
       "      <td>{'k1': 1, 'k2': 2}</td>\n",
       "      <td>(1, 2, 3)</td>\n",
       "      <td>2020-04-22 18:06:09</td>\n",
       "    </tr>\n",
       "    <tr>\n",
       "      <th>4</th>\n",
       "      <td>1.0</td>\n",
       "      <td>10</td>\n",
       "      <td>Ex</td>\n",
       "      <td>True</td>\n",
       "      <td>[1, 2, 3, 4, 5, 6]</td>\n",
       "      <td>{'k3': 3, 'k1': 1, 'k2': 2}</td>\n",
       "      <td>(1, 2, 3)</td>\n",
       "      <td>2020-04-22 18:06:10</td>\n",
       "    </tr>\n",
       "  </tbody>\n",
       "</table>\n",
       "</div>"
      ],
      "text/plain": [
       "   col_float  col_int  col_str  col_bool            col_list  \\\n",
       "0        1.0       10    Alice      True           [1, 2, 3]   \n",
       "1        1.0       10      Bob      True           [1, 2, 3]   \n",
       "2        1.0       10  Charlie      True        [1, 2, 3, 4]   \n",
       "3        1.0       10      Don     False           [1, 2, 3]   \n",
       "4        1.0       10       Ex      True  [1, 2, 3, 4, 5, 6]   \n",
       "\n",
       "                      col_dict    col_row            col_date  \n",
       "0                    {'k1': 0}  (1, 2, 3) 2020-04-22 18:06:06  \n",
       "1                    {'k1': 1}  (1, 2, 3) 2020-04-22 18:06:07  \n",
       "2           {'k1': 1, 'k2': 2}  (1, 2, 3) 2020-04-22 18:06:08  \n",
       "3           {'k1': 1, 'k2': 2}  (1, 2, 3) 2020-04-22 18:06:09  \n",
       "4  {'k3': 3, 'k1': 1, 'k2': 2}  (1, 2, 3) 2020-04-22 18:06:10  "
      ]
     },
     "execution_count": 69,
     "metadata": {},
     "output_type": "execute_result"
    }
   ],
   "source": [
    "df_pandas"
   ]
  },
  {
   "cell_type": "code",
   "execution_count": 70,
   "metadata": {},
   "outputs": [
    {
     "name": "stdout",
     "output_type": "stream",
     "text": [
      "+---------+-------+-------+--------+------------------+--------------------+---------+-------------------+\n",
      "|col_float|col_int|col_str|col_bool|          col_list|            col_dict|  col_row|           col_date|\n",
      "+---------+-------+-------+--------+------------------+--------------------+---------+-------------------+\n",
      "|      1.0|     10|  Alice|    true|         [1, 2, 3]|           [k1 -> 0]|[1, 2, 3]|2020-04-22 18:06:06|\n",
      "|      1.0|     10|    Bob|    true|         [1, 2, 3]|           [k1 -> 1]|[1, 2, 3]|2020-04-22 18:06:07|\n",
      "|      1.0|     10|Charlie|    true|      [1, 2, 3, 4]|  [k1 -> 1, k2 -> 2]|[1, 2, 3]|2020-04-22 18:06:08|\n",
      "|      1.0|     10|    Don|   false|         [1, 2, 3]|  [k1 -> 1, k2 -> 2]|[1, 2, 3]|2020-04-22 18:06:09|\n",
      "|      1.0|     10|     Ex|    true|[1, 2, 3, 4, 5, 6]|[k3 -> 3, k1 -> 1...|[1, 2, 3]|2020-04-22 18:06:10|\n",
      "+---------+-------+-------+--------+------------------+--------------------+---------+-------------------+\n",
      "\n"
     ]
    }
   ],
   "source": [
    "df_spark = sqlContext.createDataFrame(df_pandas).show()"
   ]
  },
  {
   "cell_type": "code",
   "execution_count": 71,
   "metadata": {},
   "outputs": [],
   "source": []
  },
  {
   "cell_type": "code",
   "execution_count": null,
   "metadata": {},
   "outputs": [],
   "source": []
  }
 ],
 "metadata": {
  "kernelspec": {
   "display_name": "Python 3",
   "language": "python",
   "name": "python3"
  },
  "language_info": {
   "codemirror_mode": {
    "name": "ipython",
    "version": 3
   },
   "file_extension": ".py",
   "mimetype": "text/x-python",
   "name": "python",
   "nbconvert_exporter": "python",
   "pygments_lexer": "ipython3",
   "version": "3.7.6"
  }
 },
 "nbformat": 4,
 "nbformat_minor": 4
}
